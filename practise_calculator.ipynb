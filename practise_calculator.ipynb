{
  "nbformat": 4,
  "nbformat_minor": 0,
  "metadata": {
    "colab": {
      "provenance": [],
      "authorship_tag": "ABX9TyOCp0/WDu7HfMBcPszrJC4l",
      "include_colab_link": true
    },
    "kernelspec": {
      "name": "python3",
      "display_name": "Python 3"
    },
    "language_info": {
      "name": "python"
    }
  },
  "cells": [
    {
      "cell_type": "markdown",
      "metadata": {
        "id": "view-in-github",
        "colab_type": "text"
      },
      "source": [
        "<a href=\"https://colab.research.google.com/github/MINHAJ-HUSSAIN/simple_calculator_gen_ai/blob/main/practise_calculator.ipynb\" target=\"_parent\"><img src=\"https://colab.research.google.com/assets/colab-badge.svg\" alt=\"Open In Colab\"/></a>"
      ]
    },
    {
      "cell_type": "code",
      "source": [
        "# calculator_app.py\n",
        "\n",
        "import streamlit as st\n",
        "\n",
        "# Function definitions for calculator operations\n",
        "def add(a, b):\n",
        "    return a + b\n",
        "\n",
        "def subtract(a, b):\n",
        "    return a - b\n",
        "\n",
        "def multiply(a, b):\n",
        "    return a * b\n",
        "\n",
        "def divide(a, b):\n",
        "    if b == 0:\n",
        "        return \"Error: Division by zero is not allowed!\"\n",
        "    return a / b\n",
        "\n",
        "# Streamlit App\n",
        "def main():\n",
        "    st.title(\"🧮 Simple Calculator\")\n",
        "\n",
        "    # Initialize history in session state\n",
        "    if 'history' not in st.session_state:\n",
        "        st.session_state.history = []\n",
        "\n",
        "    st.write(\"### Select Operation:\")\n",
        "    operation = st.selectbox(\"Choose an operation\", (\"Add\", \"Subtract\", \"Multiply\", \"Divide\"))\n",
        "\n",
        "    st.write(\"### Enter Numbers:\")\n",
        "    col1, col2 = st.columns(2)\n",
        "\n",
        "    with col1:\n",
        "        num1 = st.number_input(\"Enter first number\", value=0.0, key='num1')\n",
        "\n",
        "    with col2:\n",
        "        num2 = st.number_input(\"Enter second number\", value=0.0, key='num2')\n",
        "\n",
        "    if st.button(\"Calculate\"):\n",
        "        if operation == \"Add\":\n",
        "            result = add(num1, num2)\n",
        "            expression = f\"{num1} + {num2} = {result}\"\n",
        "            st.success(expression)\n",
        "        elif operation == \"Subtract\":\n",
        "            result = subtract(num1, num2)\n",
        "            expression = f\"{num1} - {num2} = {result}\"\n",
        "            st.success(expression)\n",
        "        elif operation == \"Multiply\":\n",
        "            result = multiply(num1, num2)\n",
        "            expression = f\"{num1} * {num2} = {result}\"\n",
        "            st.success(expression)\n",
        "        elif operation == \"Divide\":\n",
        "            result = divide(num1, num2)\n",
        "            if isinstance(result, str):\n",
        "                st.error(result)\n",
        "                expression = f\"{num1} / {num2} = {result}\"\n",
        "            else:\n",
        "                expression = f\"{num1} / {num2} = {result}\"\n",
        "                st.success(expression)\n",
        "        # Add to history\n",
        "        st.session_state.history.append(expression)\n",
        "\n",
        "    st.markdown(\"---\")\n",
        "    st.write(\"### Calculation History\")\n",
        "    if st.session_state.history:\n",
        "        for idx, calc in enumerate(st.session_state.history, 1):\n",
        "            st.write(f\"{idx}. {calc}\")\n",
        "    else:\n",
        "        st.write(\"No calculations yet.\")\n",
        "\n",
        "    st.markdown(\"---\")\n",
        "    st.write(\"### About\")\n",
        "    st.write(\"This is a simple calculator app built with [Streamlit](https://streamlit.io/).\")\n",
        "\n",
        "if __name__ == \"__main__\":\n",
        "    main()\n"
      ],
      "metadata": {
        "colab": {
          "base_uri": "https://localhost:8080/",
          "height": 384
        },
        "id": "PTte0i2sAYq-",
        "outputId": "19569866-3ed2-467f-e1cd-b9a90edcbd78"
      },
      "execution_count": 3,
      "outputs": [
        {
          "output_type": "error",
          "ename": "ModuleNotFoundError",
          "evalue": "No module named 'streamlit'",
          "traceback": [
            "\u001b[0;31m---------------------------------------------------------------------------\u001b[0m",
            "\u001b[0;31mModuleNotFoundError\u001b[0m                       Traceback (most recent call last)",
            "\u001b[0;32m<ipython-input-3-8688c7bcfa53>\u001b[0m in \u001b[0;36m<cell line: 3>\u001b[0;34m()\u001b[0m\n\u001b[1;32m      1\u001b[0m \u001b[0;31m# calculator_app.py\u001b[0m\u001b[0;34m\u001b[0m\u001b[0;34m\u001b[0m\u001b[0m\n\u001b[1;32m      2\u001b[0m \u001b[0;34m\u001b[0m\u001b[0m\n\u001b[0;32m----> 3\u001b[0;31m \u001b[0;32mimport\u001b[0m \u001b[0mstreamlit\u001b[0m \u001b[0;32mas\u001b[0m \u001b[0mst\u001b[0m\u001b[0;34m\u001b[0m\u001b[0;34m\u001b[0m\u001b[0m\n\u001b[0m\u001b[1;32m      4\u001b[0m \u001b[0;34m\u001b[0m\u001b[0m\n\u001b[1;32m      5\u001b[0m \u001b[0;31m# Function definitions for calculator operations\u001b[0m\u001b[0;34m\u001b[0m\u001b[0;34m\u001b[0m\u001b[0m\n",
            "\u001b[0;31mModuleNotFoundError\u001b[0m: No module named 'streamlit'",
            "",
            "\u001b[0;31m---------------------------------------------------------------------------\u001b[0;32m\nNOTE: If your import is failing due to a missing package, you can\nmanually install dependencies using either !pip or !apt.\n\nTo view examples of installing some common dependencies, click the\n\"Open Examples\" button below.\n\u001b[0;31m---------------------------------------------------------------------------\u001b[0m\n"
          ],
          "errorDetails": {
            "actions": [
              {
                "action": "open_url",
                "actionText": "Open Examples",
                "url": "/notebooks/snippets/importing_libraries.ipynb"
              }
            ]
          }
        }
      ]
    }
  ]
}